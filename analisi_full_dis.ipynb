{
 "cells": [
  {
   "cell_type": "code",
   "execution_count": 1,
   "metadata": {},
   "outputs": [],
   "source": [
    "import matplotlib.pyplot as plt\n",
    "import pandas as pd\n",
    "import numpy as np\n",
    "import csv\n",
    "from os import listdir\n",
    "from os.path import isfile, join\n",
    "import skfda\n",
    "from skfda.representation.interpolation import SplineInterpolation\n",
    "from skfda.exploratory.visualization import Boxplot\n",
    "import datetime as dt\n",
    "from numpy.polynomial.polynomial import polyfit\n",
    "from sklearn.metrics import mean_squared_error"
   ]
  },
  {
   "cell_type": "code",
   "execution_count": 5,
   "metadata": {},
   "outputs": [],
   "source": [
    "# Variabili globali\n",
    "\n",
    "path = 'pala_ok/fullDischargeGoodmotor/'"
   ]
  },
  {
   "cell_type": "code",
   "execution_count": 6,
   "metadata": {},
   "outputs": [],
   "source": [
    "allacqui_temp = []\n",
    "\n",
    "allacqui_input = []\n",
    "\n",
    "# Andiamo a prendere tutti i path dei vari file\n",
    "\n",
    "path_acquisizioni = [f for f in listdir(path) if isfile(join(path, f))]"
   ]
  },
  {
   "cell_type": "code",
   "execution_count": 8,
   "metadata": {},
   "outputs": [
    {
     "ename": "KeyError",
     "evalue": "Index(['time'], dtype='object')",
     "output_type": "error",
     "traceback": [
      "\u001b[1;31m---------------------------------------------------------------------------\u001b[0m",
      "\u001b[1;31mKeyError\u001b[0m                                  Traceback (most recent call last)",
      "\u001b[1;32mc:\\Users\\pc\\Desktop\\Università\\MANUTENZIONE PREVENTIVA PER LA ROBOTICA E L'AUTOMAZIONE INTELLIGENTE\\Progetto\\Manutenzione_preventiva\\analisi_full_dis.ipynb Cella 4\u001b[0m in \u001b[0;36m<cell line: 1>\u001b[1;34m()\u001b[0m\n\u001b[0;32m      <a href='vscode-notebook-cell:/c%3A/Users/pc/Desktop/Universit%C3%A0/MANUTENZIONE%20PREVENTIVA%20PER%20LA%20ROBOTICA%20E%20L%27AUTOMAZIONE%20INTELLIGENTE/Progetto/Manutenzione_preventiva/analisi_full_dis.ipynb#W3sZmlsZQ%3D%3D?line=0'>1</a>\u001b[0m \u001b[39mfor\u001b[39;00m a,b \u001b[39min\u001b[39;00m \u001b[39mzip\u001b[39m(path_acquisizioni,\u001b[39mrange\u001b[39m(\u001b[39m0\u001b[39m,\u001b[39mlen\u001b[39m(path_acquisizioni))):\n\u001b[1;32m----> <a href='vscode-notebook-cell:/c%3A/Users/pc/Desktop/Universit%C3%A0/MANUTENZIONE%20PREVENTIVA%20PER%20LA%20ROBOTICA%20E%20L%27AUTOMAZIONE%20INTELLIGENTE/Progetto/Manutenzione_preventiva/analisi_full_dis.ipynb#W3sZmlsZQ%3D%3D?line=1'>2</a>\u001b[0m     allacqui_temp\u001b[39m.\u001b[39mappend(pd\u001b[39m.\u001b[39;49mread_csv(path\u001b[39m+\u001b[39;49ma,sep\u001b[39m=\u001b[39;49m\u001b[39m'\u001b[39;49m\u001b[39m\\t\u001b[39;49;00m\u001b[39m'\u001b[39;49m)\u001b[39m.\u001b[39;49mdrop_duplicates(subset\u001b[39m=\u001b[39;49m[\u001b[39m'\u001b[39;49m\u001b[39mtime\u001b[39;49m\u001b[39m'\u001b[39;49m],keep\u001b[39m=\u001b[39;49m\u001b[39m'\u001b[39;49m\u001b[39mlast\u001b[39;49m\u001b[39m'\u001b[39;49m,ignore_index\u001b[39m=\u001b[39;49m\u001b[39mTrue\u001b[39;49;00m))\n\u001b[0;32m      <a href='vscode-notebook-cell:/c%3A/Users/pc/Desktop/Universit%C3%A0/MANUTENZIONE%20PREVENTIVA%20PER%20LA%20ROBOTICA%20E%20L%27AUTOMAZIONE%20INTELLIGENTE/Progetto/Manutenzione_preventiva/analisi_full_dis.ipynb#W3sZmlsZQ%3D%3D?line=3'>4</a>\u001b[0m allacqui \u001b[39m=\u001b[39m []\n\u001b[0;32m      <a href='vscode-notebook-cell:/c%3A/Users/pc/Desktop/Universit%C3%A0/MANUTENZIONE%20PREVENTIVA%20PER%20LA%20ROBOTICA%20E%20L%27AUTOMAZIONE%20INTELLIGENTE/Progetto/Manutenzione_preventiva/analisi_full_dis.ipynb#W3sZmlsZQ%3D%3D?line=4'>5</a>\u001b[0m \u001b[39mfor\u001b[39;00m a,b \u001b[39min\u001b[39;00m \u001b[39mzip\u001b[39m(allacqui_temp,\u001b[39mrange\u001b[39m(\u001b[39mlen\u001b[39m(allacqui_temp))):\n",
      "File \u001b[1;32mc:\\Users\\pc\\anaconda3\\envs\\manutenzione\\lib\\site-packages\\pandas\\core\\frame.py:6532\u001b[0m, in \u001b[0;36mDataFrame.drop_duplicates\u001b[1;34m(self, subset, keep, inplace, ignore_index)\u001b[0m\n\u001b[0;32m   6529\u001b[0m inplace \u001b[39m=\u001b[39m validate_bool_kwarg(inplace, \u001b[39m\"\u001b[39m\u001b[39minplace\u001b[39m\u001b[39m\"\u001b[39m)\n\u001b[0;32m   6530\u001b[0m ignore_index \u001b[39m=\u001b[39m validate_bool_kwarg(ignore_index, \u001b[39m\"\u001b[39m\u001b[39mignore_index\u001b[39m\u001b[39m\"\u001b[39m)\n\u001b[1;32m-> 6532\u001b[0m result \u001b[39m=\u001b[39m \u001b[39mself\u001b[39m[\u001b[39m-\u001b[39m\u001b[39mself\u001b[39;49m\u001b[39m.\u001b[39;49mduplicated(subset, keep\u001b[39m=\u001b[39;49mkeep)]\n\u001b[0;32m   6533\u001b[0m \u001b[39mif\u001b[39;00m ignore_index:\n\u001b[0;32m   6534\u001b[0m     result\u001b[39m.\u001b[39mindex \u001b[39m=\u001b[39m default_index(\u001b[39mlen\u001b[39m(result))\n",
      "File \u001b[1;32mc:\\Users\\pc\\anaconda3\\envs\\manutenzione\\lib\\site-packages\\pandas\\core\\frame.py:6664\u001b[0m, in \u001b[0;36mDataFrame.duplicated\u001b[1;34m(self, subset, keep)\u001b[0m\n\u001b[0;32m   6662\u001b[0m diff \u001b[39m=\u001b[39m \u001b[39mset\u001b[39m(subset) \u001b[39m-\u001b[39m \u001b[39mset\u001b[39m(\u001b[39mself\u001b[39m\u001b[39m.\u001b[39mcolumns)\n\u001b[0;32m   6663\u001b[0m \u001b[39mif\u001b[39;00m diff:\n\u001b[1;32m-> 6664\u001b[0m     \u001b[39mraise\u001b[39;00m \u001b[39mKeyError\u001b[39;00m(Index(diff))\n\u001b[0;32m   6666\u001b[0m \u001b[39mif\u001b[39;00m \u001b[39mlen\u001b[39m(subset) \u001b[39m==\u001b[39m \u001b[39m1\u001b[39m \u001b[39mand\u001b[39;00m \u001b[39mself\u001b[39m\u001b[39m.\u001b[39mcolumns\u001b[39m.\u001b[39mis_unique:\n\u001b[0;32m   6667\u001b[0m     \u001b[39m# GH#45236 This is faster than get_group_index below\u001b[39;00m\n\u001b[0;32m   6668\u001b[0m     result \u001b[39m=\u001b[39m \u001b[39mself\u001b[39m[subset[\u001b[39m0\u001b[39m]]\u001b[39m.\u001b[39mduplicated(keep)\n",
      "\u001b[1;31mKeyError\u001b[0m: Index(['time'], dtype='object')"
     ]
    }
   ],
   "source": [
    "for a,b in zip(path_acquisizioni,range(0,len(path_acquisizioni))):\n",
    "    allacqui_temp.append(pd.read_csv(path+a,sep='\\t').drop_duplicates(subset=['time'],keep='last',ignore_index=True))\n",
    "\n",
    "allacqui = []\n",
    "for a,b in zip(allacqui_temp,range(len(allacqui_temp))):\n",
    "    if(b % 3 ==0):\n",
    "        allacqui.append([])\n",
    "        a['Voltage'] = (10 - a['Voltage'])*500\n",
    "        plt.plot(a['Voltage'])\n",
    "    allacqui[-1].append(a)"
   ]
  }
 ],
 "metadata": {
  "kernelspec": {
   "display_name": "manutenzione",
   "language": "python",
   "name": "python3"
  },
  "language_info": {
   "codemirror_mode": {
    "name": "ipython",
    "version": 3
   },
   "file_extension": ".py",
   "mimetype": "text/x-python",
   "name": "python",
   "nbconvert_exporter": "python",
   "pygments_lexer": "ipython3",
   "version": "3.8.16"
  },
  "orig_nbformat": 4
 },
 "nbformat": 4,
 "nbformat_minor": 2
}
