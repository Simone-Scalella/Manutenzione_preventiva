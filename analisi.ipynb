{
 "cells": [
  {
   "cell_type": "code",
   "execution_count": 1,
   "metadata": {},
   "outputs": [],
   "source": [
    "import matplotlib.pyplot as plt\n",
    "import pandas as pd\n",
    "import numpy as np\n",
    "import os\n",
    "from os import listdir\n",
    "from os.path import isfile, join"
   ]
  },
  {
   "cell_type": "code",
   "execution_count": 2,
   "metadata": {},
   "outputs": [],
   "source": [
    "# Variabili globali\n",
    "\n",
    "path = 'acquisizione 15_05_2023/'"
   ]
  },
  {
   "cell_type": "code",
   "execution_count": 3,
   "metadata": {},
   "outputs": [],
   "source": [
    "allacqui = []\n",
    "\n",
    "# Andiamo a prendere tutti i path dei vari file\n",
    "\n",
    "path_acquisizioni = [f for f in listdir(path) if isfile(join(path, f))]\n"
   ]
  },
  {
   "cell_type": "code",
   "execution_count": 4,
   "metadata": {},
   "outputs": [],
   "source": [
    "# Abbiamo usato il range siccome i csv hanno separatori diversi\n",
    "\n",
    "for a,b in zip(path_acquisizioni,range(0,15)):\n",
    "    if(b < 4 or b > 11):\n",
    "        allacqui.append(pd.read_csv(path+a,sep=','))\n",
    "    else:\n",
    "        allacqui.append(pd.read_csv(path+a,sep='\\t'))"
   ]
  },
  {
   "cell_type": "code",
   "execution_count": 5,
   "metadata": {},
   "outputs": [
    {
     "name": "stdout",
     "output_type": "stream",
     "text": [
      "<class 'pandas.core.series.Series'>\n",
      "(120, 2)\n",
      "(120, 2)\n",
      "(121, 2)\n",
      "(121, 2)\n",
      "(14396, 2)\n",
      "(14614, 2)\n",
      "(14149, 2)\n",
      "(14390, 2)\n",
      "(119, 2)\n",
      "(119, 2)\n",
      "(120, 2)\n",
      "(120, 2)\n",
      "(0, 2)\n",
      "(0, 2)\n",
      "(0, 2)\n"
     ]
    }
   ],
   "source": [
    "# Check delle dimensioni\n",
    "\n",
    "print(type(allacqui[4][:10].mean()))\n",
    "\n",
    "for a in range(len(allacqui)):\n",
    "    print(allacqui[a].shape)"
   ]
  },
  {
   "cell_type": "code",
   "execution_count": 20,
   "metadata": {},
   "outputs": [],
   "source": [
    "media_mobile_ni = pd.DataFrame(columns=[])\n",
    "\n",
    "for b in range(0,allacqui[4].shape[0],1):\n",
    "    media_mobile_ni = pd.concat([media_mobile_ni,pd.DataFrame(allacqui[4][b:10+b].mean()).transpose()],ignore_index=True)"
   ]
  },
  {
   "cell_type": "code",
   "execution_count": 19,
   "metadata": {},
   "outputs": [
    {
     "name": "stdout",
     "output_type": "stream",
     "text": [
      "              Time    Voltage\n",
      "0     1.684166e+15  10.004800\n",
      "1     1.684166e+15  10.004800\n",
      "2     1.684166e+15  10.003927\n",
      "3     1.684166e+15  10.004154\n",
      "4     1.684166e+15  10.003346\n",
      "...            ...        ...\n",
      "1435  1.684166e+15   7.876080\n",
      "1436  1.684166e+15   7.870490\n",
      "1437  1.684166e+15   7.874626\n",
      "1438  1.684166e+15   7.882251\n",
      "1439  1.684166e+15   7.879084\n",
      "\n",
      "[1440 rows x 2 columns]\n"
     ]
    }
   ],
   "source": [
    "print(media_mobile_ni)"
   ]
  },
  {
   "cell_type": "code",
   "execution_count": 7,
   "metadata": {},
   "outputs": [
    {
     "ename": "KeyError",
     "evalue": "4",
     "output_type": "error",
     "traceback": [
      "\u001b[1;31m---------------------------------------------------------------------------\u001b[0m",
      "\u001b[1;31mKeyError\u001b[0m                                  Traceback (most recent call last)",
      "File \u001b[1;32mc:\\Users\\pc\\anaconda3\\envs\\manutenzione\\lib\\site-packages\\pandas\\core\\indexes\\base.py:3652\u001b[0m, in \u001b[0;36mIndex.get_loc\u001b[1;34m(self, key)\u001b[0m\n\u001b[0;32m   3651\u001b[0m \u001b[39mtry\u001b[39;00m:\n\u001b[1;32m-> 3652\u001b[0m     \u001b[39mreturn\u001b[39;00m \u001b[39mself\u001b[39;49m\u001b[39m.\u001b[39;49m_engine\u001b[39m.\u001b[39;49mget_loc(casted_key)\n\u001b[0;32m   3653\u001b[0m \u001b[39mexcept\u001b[39;00m \u001b[39mKeyError\u001b[39;00m \u001b[39mas\u001b[39;00m err:\n",
      "File \u001b[1;32mc:\\Users\\pc\\anaconda3\\envs\\manutenzione\\lib\\site-packages\\pandas\\_libs\\index.pyx:147\u001b[0m, in \u001b[0;36mpandas._libs.index.IndexEngine.get_loc\u001b[1;34m()\u001b[0m\n",
      "File \u001b[1;32mc:\\Users\\pc\\anaconda3\\envs\\manutenzione\\lib\\site-packages\\pandas\\_libs\\index.pyx:176\u001b[0m, in \u001b[0;36mpandas._libs.index.IndexEngine.get_loc\u001b[1;34m()\u001b[0m\n",
      "File \u001b[1;32mpandas\\_libs\\hashtable_class_helper.pxi:7080\u001b[0m, in \u001b[0;36mpandas._libs.hashtable.PyObjectHashTable.get_item\u001b[1;34m()\u001b[0m\n",
      "File \u001b[1;32mpandas\\_libs\\hashtable_class_helper.pxi:7088\u001b[0m, in \u001b[0;36mpandas._libs.hashtable.PyObjectHashTable.get_item\u001b[1;34m()\u001b[0m\n",
      "\u001b[1;31mKeyError\u001b[0m: 4",
      "\nThe above exception was the direct cause of the following exception:\n",
      "\u001b[1;31mKeyError\u001b[0m                                  Traceback (most recent call last)",
      "\u001b[1;32mc:\\Users\\pc\\Desktop\\Università\\MANUTENZIONE PREVENTIVA PER LA ROBOTICA E L'AUTOMAZIONE INTELLIGENTE\\Progetto\\Manutenzione_preventiva\\analisi.ipynb Cella 8\u001b[0m in \u001b[0;36m<cell line: 3>\u001b[1;34m()\u001b[0m\n\u001b[0;32m      <a href='vscode-notebook-cell:/c%3A/Users/pc/Desktop/Universit%C3%A0/MANUTENZIONE%20PREVENTIVA%20PER%20LA%20ROBOTICA%20E%20L%27AUTOMAZIONE%20INTELLIGENTE/Progetto/Manutenzione_preventiva/analisi.ipynb#X10sZmlsZQ%3D%3D?line=0'>1</a>\u001b[0m \u001b[39m# Andiamo a lavorare sui dati di national instrument, ne riduciamo le dimensioni usando la media\u001b[39;00m\n\u001b[0;32m      <a href='vscode-notebook-cell:/c%3A/Users/pc/Desktop/Universit%C3%A0/MANUTENZIONE%20PREVENTIVA%20PER%20LA%20ROBOTICA%20E%20L%27AUTOMAZIONE%20INTELLIGENTE/Progetto/Manutenzione_preventiva/analisi.ipynb#X10sZmlsZQ%3D%3D?line=2'>3</a>\u001b[0m \u001b[39mfor\u001b[39;00m a \u001b[39min\u001b[39;00m \u001b[39mrange\u001b[39m(\u001b[39m4\u001b[39m,\u001b[39m8\u001b[39m):\n\u001b[1;32m----> <a href='vscode-notebook-cell:/c%3A/Users/pc/Desktop/Universit%C3%A0/MANUTENZIONE%20PREVENTIVA%20PER%20LA%20ROBOTICA%20E%20L%27AUTOMAZIONE%20INTELLIGENTE/Progetto/Manutenzione_preventiva/analisi.ipynb#X10sZmlsZQ%3D%3D?line=3'>4</a>\u001b[0m     media_mobile_ni[a]\n",
      "File \u001b[1;32mc:\\Users\\pc\\anaconda3\\envs\\manutenzione\\lib\\site-packages\\pandas\\core\\frame.py:3761\u001b[0m, in \u001b[0;36mDataFrame.__getitem__\u001b[1;34m(self, key)\u001b[0m\n\u001b[0;32m   3759\u001b[0m \u001b[39mif\u001b[39;00m \u001b[39mself\u001b[39m\u001b[39m.\u001b[39mcolumns\u001b[39m.\u001b[39mnlevels \u001b[39m>\u001b[39m \u001b[39m1\u001b[39m:\n\u001b[0;32m   3760\u001b[0m     \u001b[39mreturn\u001b[39;00m \u001b[39mself\u001b[39m\u001b[39m.\u001b[39m_getitem_multilevel(key)\n\u001b[1;32m-> 3761\u001b[0m indexer \u001b[39m=\u001b[39m \u001b[39mself\u001b[39;49m\u001b[39m.\u001b[39;49mcolumns\u001b[39m.\u001b[39;49mget_loc(key)\n\u001b[0;32m   3762\u001b[0m \u001b[39mif\u001b[39;00m is_integer(indexer):\n\u001b[0;32m   3763\u001b[0m     indexer \u001b[39m=\u001b[39m [indexer]\n",
      "File \u001b[1;32mc:\\Users\\pc\\anaconda3\\envs\\manutenzione\\lib\\site-packages\\pandas\\core\\indexes\\base.py:3654\u001b[0m, in \u001b[0;36mIndex.get_loc\u001b[1;34m(self, key)\u001b[0m\n\u001b[0;32m   3652\u001b[0m     \u001b[39mreturn\u001b[39;00m \u001b[39mself\u001b[39m\u001b[39m.\u001b[39m_engine\u001b[39m.\u001b[39mget_loc(casted_key)\n\u001b[0;32m   3653\u001b[0m \u001b[39mexcept\u001b[39;00m \u001b[39mKeyError\u001b[39;00m \u001b[39mas\u001b[39;00m err:\n\u001b[1;32m-> 3654\u001b[0m     \u001b[39mraise\u001b[39;00m \u001b[39mKeyError\u001b[39;00m(key) \u001b[39mfrom\u001b[39;00m \u001b[39merr\u001b[39;00m\n\u001b[0;32m   3655\u001b[0m \u001b[39mexcept\u001b[39;00m \u001b[39mTypeError\u001b[39;00m:\n\u001b[0;32m   3656\u001b[0m     \u001b[39m# If we have a listlike key, _check_indexing_error will raise\u001b[39;00m\n\u001b[0;32m   3657\u001b[0m     \u001b[39m#  InvalidIndexError. Otherwise we fall through and re-raise\u001b[39;00m\n\u001b[0;32m   3658\u001b[0m     \u001b[39m#  the TypeError.\u001b[39;00m\n\u001b[0;32m   3659\u001b[0m     \u001b[39mself\u001b[39m\u001b[39m.\u001b[39m_check_indexing_error(key)\n",
      "\u001b[1;31mKeyError\u001b[0m: 4"
     ]
    }
   ],
   "source": [
    "# Andiamo a lavorare sui dati di national instrument, ne riduciamo le dimensioni usando la media\n",
    "\n",
    "for a in range(4,8):\n",
    "    media_mobile_ni[a]"
   ]
  }
 ],
 "metadata": {
  "kernelspec": {
   "display_name": "manutenzione",
   "language": "python",
   "name": "python3"
  },
  "language_info": {
   "codemirror_mode": {
    "name": "ipython",
    "version": 3
   },
   "file_extension": ".py",
   "mimetype": "text/x-python",
   "name": "python",
   "nbconvert_exporter": "python",
   "pygments_lexer": "ipython3",
   "version": "3.8.16"
  },
  "orig_nbformat": 4
 },
 "nbformat": 4,
 "nbformat_minor": 2
}
