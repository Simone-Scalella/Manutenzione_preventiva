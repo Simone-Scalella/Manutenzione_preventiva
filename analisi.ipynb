{
 "cells": [
  {
   "cell_type": "code",
   "execution_count": 92,
   "metadata": {},
   "outputs": [],
   "source": [
    "import matplotlib.pyplot as plt\n",
    "import pandas as pd\n",
    "import numpy as np\n",
    "import os\n",
    "from os import listdir\n",
    "from os.path import isfile, join\n",
    "import skfda\n",
    "from skfda.representation.interpolation import SplineInterpolation\n",
    "from skfda.exploratory.visualization import Boxplot\n",
    "import datetime as dt"
   ]
  },
  {
   "cell_type": "code",
   "execution_count": 93,
   "metadata": {},
   "outputs": [],
   "source": [
    "# Variabili globali\n",
    "\n",
    "path = 'pala_ok/acquisizione 22-05-2023/'"
   ]
  },
  {
   "cell_type": "code",
   "execution_count": 94,
   "metadata": {},
   "outputs": [],
   "source": [
    "allacqui_temp = []\n",
    "\n",
    "allacqui_input = []\n",
    "\n",
    "# Andiamo a prendere tutti i path dei vari file\n",
    "\n",
    "path_acquisizioni = [f for f in listdir(path) if isfile(join(path, f))]\n"
   ]
  },
  {
   "cell_type": "code",
   "execution_count": 95,
   "metadata": {},
   "outputs": [],
   "source": [
    "# Abbiamo usato il range siccome i csv hanno separatori diversi\n",
    "\n",
    "for a,b in zip(path_acquisizioni,range(0,len(path_acquisizioni))):\n",
    "    if(\"input\" in a):\n",
    "        allacqui_input.append(pd.read_csv(path+a,sep='\\t'))\n",
    "    else:\n",
    "        allacqui_temp.append(pd.read_csv(path+a,sep='\\t'))\n",
    "\n",
    "allacqui = []\n",
    "for a,b in zip(allacqui_temp,range(len(allacqui_temp))):\n",
    "    if(b % 3 ==0):\n",
    "        allacqui.append([])\n",
    "    allacqui[-1].append(a)\n",
    "\n",
    "\n"
   ]
  },
  {
   "cell_type": "code",
   "execution_count": 96,
   "metadata": {},
   "outputs": [
    {
     "name": "stdout",
     "output_type": "stream",
     "text": [
      "4\n",
      "4\n",
      "3\n"
     ]
    }
   ],
   "source": [
    "print(len(allacqui_input))\n",
    "print(len(allacqui))\n",
    "print(len(allacqui[0]))\n",
    "#print(allacqui)"
   ]
  },
  {
   "cell_type": "code",
   "execution_count": 97,
   "metadata": {},
   "outputs": [
    {
     "name": "stdout",
     "output_type": "stream",
     "text": [
      "<class 'pandas.core.series.Series'>\n",
      "(30192, 2)\n",
      "(29638, 2)\n",
      "(29639, 2)\n"
     ]
    }
   ],
   "source": [
    "# Check delle dimensioni\n",
    "\n",
    "print(type(allacqui[0][0][:10].mean()))\n",
    "\n",
    "for a in range(len(allacqui[0])):\n",
    "    print(allacqui[0][a].shape)"
   ]
  },
  {
   "cell_type": "code",
   "execution_count": 98,
   "metadata": {},
   "outputs": [
    {
     "name": "stdout",
     "output_type": "stream",
     "text": [
      "Unexpected exception formatting exception. Falling back to standard exception\n"
     ]
    },
    {
     "name": "stderr",
     "output_type": "stream",
     "text": [
      "Traceback (most recent call last):\n",
      "  File \"C:\\Users\\Leo\\AppData\\Roaming\\Python\\Python38\\site-packages\\IPython\\core\\interactiveshell.py\", line 3433, in run_code\n",
      "    exec(code_obj, self.user_global_ns, self.user_ns)\n",
      "  File \"C:\\Users\\Leo\\AppData\\Local\\Temp\\ipykernel_3868\\2458653397.py\", line 3, in <module>\n",
      "    for b in range(0,allacqui[4].shape[0],1):\n",
      "IndexError: list index out of range\n",
      "\n",
      "During handling of the above exception, another exception occurred:\n",
      "\n",
      "Traceback (most recent call last):\n",
      "  File \"C:\\Users\\Leo\\AppData\\Roaming\\Python\\Python38\\site-packages\\IPython\\core\\interactiveshell.py\", line 2052, in showtraceback\n",
      "    stb = self.InteractiveTB.structured_traceback(\n",
      "  File \"C:\\Users\\Leo\\AppData\\Roaming\\Python\\Python38\\site-packages\\IPython\\core\\ultratb.py\", line 1112, in structured_traceback\n",
      "    return FormattedTB.structured_traceback(\n",
      "  File \"C:\\Users\\Leo\\AppData\\Roaming\\Python\\Python38\\site-packages\\IPython\\core\\ultratb.py\", line 1006, in structured_traceback\n",
      "    return VerboseTB.structured_traceback(\n",
      "  File \"C:\\Users\\Leo\\AppData\\Roaming\\Python\\Python38\\site-packages\\IPython\\core\\ultratb.py\", line 859, in structured_traceback\n",
      "    formatted_exception = self.format_exception_as_a_whole(etype, evalue, etb, number_of_lines_of_context,\n",
      "  File \"C:\\Users\\Leo\\AppData\\Roaming\\Python\\Python38\\site-packages\\IPython\\core\\ultratb.py\", line 812, in format_exception_as_a_whole\n",
      "    frames.append(self.format_record(r))\n",
      "  File \"C:\\Users\\Leo\\AppData\\Roaming\\Python\\Python38\\site-packages\\IPython\\core\\ultratb.py\", line 730, in format_record\n",
      "    result += ''.join(_format_traceback_lines(frame_info.lines, Colors, self.has_colors, lvals))\n",
      "  File \"C:\\Users\\Leo\\AppData\\Roaming\\Python\\Python38\\site-packages\\stack_data\\utils.py\", line 144, in cached_property_wrapper\n",
      "    value = obj.__dict__[self.func.__name__] = self.func(obj)\n",
      "  File \"C:\\Users\\Leo\\AppData\\Roaming\\Python\\Python38\\site-packages\\stack_data\\core.py\", line 720, in lines\n",
      "    pieces = self.included_pieces\n",
      "  File \"C:\\Users\\Leo\\AppData\\Roaming\\Python\\Python38\\site-packages\\stack_data\\utils.py\", line 144, in cached_property_wrapper\n",
      "    value = obj.__dict__[self.func.__name__] = self.func(obj)\n",
      "  File \"C:\\Users\\Leo\\AppData\\Roaming\\Python\\Python38\\site-packages\\stack_data\\core.py\", line 667, in included_pieces\n",
      "    pos = scope_pieces.index(self.executing_piece)\n",
      "  File \"C:\\Users\\Leo\\AppData\\Roaming\\Python\\Python38\\site-packages\\stack_data\\utils.py\", line 144, in cached_property_wrapper\n",
      "    value = obj.__dict__[self.func.__name__] = self.func(obj)\n",
      "  File \"C:\\Users\\Leo\\AppData\\Roaming\\Python\\Python38\\site-packages\\stack_data\\core.py\", line 646, in executing_piece\n",
      "    return only(\n",
      "  File \"C:\\Users\\Leo\\AppData\\Roaming\\Python\\Python38\\site-packages\\executing\\executing.py\", line 182, in only\n",
      "    if isinstance(it, Sized):\n",
      "  File \"c:\\Users\\Leo\\.conda\\envs\\manu\\lib\\typing.py\", line 769, in __instancecheck__\n",
      "    return self.__subclasscheck__(type(obj))\n",
      "  File \"c:\\Users\\Leo\\.conda\\envs\\manu\\lib\\typing.py\", line 774, in __subclasscheck__\n",
      "    return issubclass(cls, self.__origin__)\n",
      "  File \"c:\\Users\\Leo\\.conda\\envs\\manu\\lib\\abc.py\", line 102, in __subclasscheck__\n",
      "    return _abc_subclasscheck(cls, subclass)\n",
      "  File \"c:\\Users\\Leo\\.conda\\envs\\manu\\lib\\site-packages\\typing_extensions.py\", line 583, in __subclasscheck__\n",
      "    return super().__subclasscheck__(other)\n",
      "  File \"c:\\Users\\Leo\\.conda\\envs\\manu\\lib\\abc.py\", line 102, in __subclasscheck__\n",
      "    return _abc_subclasscheck(cls, subclass)\n",
      "  File \"c:\\Users\\Leo\\.conda\\envs\\manu\\lib\\site-packages\\typing_extensions.py\", line 639, in _proto_hook\n",
      "    raise TypeError(\"Instance and class checks can only be used with\"\n",
      "TypeError: Instance and class checks can only be used with @runtime_checkable protocols\n"
     ]
    }
   ],
   "source": [
    "media_mobile_ni = pd.DataFrame(columns=[])\n",
    "\n",
    "for b in range(0,allacqui[4].shape[0],1):\n",
    "    media_mobile_ni = pd.concat([media_mobile_ni,pd.DataFrame(allacqui[4][b:10+b].mean()).transpose()],ignore_index=True)"
   ]
  },
  {
   "cell_type": "code",
   "execution_count": 99,
   "metadata": {},
   "outputs": [
    {
     "name": "stdout",
     "output_type": "stream",
     "text": [
      "<class 'list'>\n",
      "Unexpected exception formatting exception. Falling back to standard exception\n"
     ]
    },
    {
     "name": "stderr",
     "output_type": "stream",
     "text": [
      "Traceback (most recent call last):\n",
      "  File \"C:\\Users\\Leo\\AppData\\Roaming\\Python\\Python38\\site-packages\\IPython\\core\\interactiveshell.py\", line 3433, in run_code\n",
      "    exec(code_obj, self.user_global_ns, self.user_ns)\n",
      "  File \"C:\\Users\\Leo\\AppData\\Local\\Temp\\ipykernel_3868\\3412424712.py\", line 2, in <module>\n",
      "    print(allacqui[0].head(10))\n",
      "AttributeError: 'list' object has no attribute 'head'\n",
      "\n",
      "During handling of the above exception, another exception occurred:\n",
      "\n",
      "Traceback (most recent call last):\n",
      "  File \"C:\\Users\\Leo\\AppData\\Roaming\\Python\\Python38\\site-packages\\IPython\\core\\interactiveshell.py\", line 2052, in showtraceback\n",
      "    stb = self.InteractiveTB.structured_traceback(\n",
      "  File \"C:\\Users\\Leo\\AppData\\Roaming\\Python\\Python38\\site-packages\\IPython\\core\\ultratb.py\", line 1112, in structured_traceback\n",
      "    return FormattedTB.structured_traceback(\n",
      "  File \"C:\\Users\\Leo\\AppData\\Roaming\\Python\\Python38\\site-packages\\IPython\\core\\ultratb.py\", line 1006, in structured_traceback\n",
      "    return VerboseTB.structured_traceback(\n",
      "  File \"C:\\Users\\Leo\\AppData\\Roaming\\Python\\Python38\\site-packages\\IPython\\core\\ultratb.py\", line 859, in structured_traceback\n",
      "    formatted_exception = self.format_exception_as_a_whole(etype, evalue, etb, number_of_lines_of_context,\n",
      "  File \"C:\\Users\\Leo\\AppData\\Roaming\\Python\\Python38\\site-packages\\IPython\\core\\ultratb.py\", line 812, in format_exception_as_a_whole\n",
      "    frames.append(self.format_record(r))\n",
      "  File \"C:\\Users\\Leo\\AppData\\Roaming\\Python\\Python38\\site-packages\\IPython\\core\\ultratb.py\", line 730, in format_record\n",
      "    result += ''.join(_format_traceback_lines(frame_info.lines, Colors, self.has_colors, lvals))\n",
      "  File \"C:\\Users\\Leo\\AppData\\Roaming\\Python\\Python38\\site-packages\\stack_data\\utils.py\", line 144, in cached_property_wrapper\n",
      "    value = obj.__dict__[self.func.__name__] = self.func(obj)\n",
      "  File \"C:\\Users\\Leo\\AppData\\Roaming\\Python\\Python38\\site-packages\\stack_data\\core.py\", line 720, in lines\n",
      "    pieces = self.included_pieces\n",
      "  File \"C:\\Users\\Leo\\AppData\\Roaming\\Python\\Python38\\site-packages\\stack_data\\utils.py\", line 144, in cached_property_wrapper\n",
      "    value = obj.__dict__[self.func.__name__] = self.func(obj)\n",
      "  File \"C:\\Users\\Leo\\AppData\\Roaming\\Python\\Python38\\site-packages\\stack_data\\core.py\", line 667, in included_pieces\n",
      "    pos = scope_pieces.index(self.executing_piece)\n",
      "  File \"C:\\Users\\Leo\\AppData\\Roaming\\Python\\Python38\\site-packages\\stack_data\\utils.py\", line 144, in cached_property_wrapper\n",
      "    value = obj.__dict__[self.func.__name__] = self.func(obj)\n",
      "  File \"C:\\Users\\Leo\\AppData\\Roaming\\Python\\Python38\\site-packages\\stack_data\\core.py\", line 646, in executing_piece\n",
      "    return only(\n",
      "  File \"C:\\Users\\Leo\\AppData\\Roaming\\Python\\Python38\\site-packages\\executing\\executing.py\", line 182, in only\n",
      "    if isinstance(it, Sized):\n",
      "  File \"c:\\Users\\Leo\\.conda\\envs\\manu\\lib\\typing.py\", line 769, in __instancecheck__\n",
      "    return self.__subclasscheck__(type(obj))\n",
      "  File \"c:\\Users\\Leo\\.conda\\envs\\manu\\lib\\typing.py\", line 774, in __subclasscheck__\n",
      "    return issubclass(cls, self.__origin__)\n",
      "  File \"c:\\Users\\Leo\\.conda\\envs\\manu\\lib\\abc.py\", line 102, in __subclasscheck__\n",
      "    return _abc_subclasscheck(cls, subclass)\n",
      "  File \"c:\\Users\\Leo\\.conda\\envs\\manu\\lib\\site-packages\\typing_extensions.py\", line 583, in __subclasscheck__\n",
      "    return super().__subclasscheck__(other)\n",
      "  File \"c:\\Users\\Leo\\.conda\\envs\\manu\\lib\\abc.py\", line 102, in __subclasscheck__\n",
      "    return _abc_subclasscheck(cls, subclass)\n",
      "  File \"c:\\Users\\Leo\\.conda\\envs\\manu\\lib\\site-packages\\typing_extensions.py\", line 639, in _proto_hook\n",
      "    raise TypeError(\"Instance and class checks can only be used with\"\n",
      "TypeError: Instance and class checks can only be used with @runtime_checkable protocols\n"
     ]
    }
   ],
   "source": [
    "print(type(allacqui[0]))\n",
    "print(allacqui[0].head(10))"
   ]
  },
  {
   "cell_type": "code",
   "execution_count": 100,
   "metadata": {},
   "outputs": [
    {
     "name": "stdout",
     "output_type": "stream",
     "text": [
      "Unexpected exception formatting exception. Falling back to standard exception\n"
     ]
    },
    {
     "name": "stderr",
     "output_type": "stream",
     "text": [
      "Traceback (most recent call last):\n",
      "  File \"C:\\Users\\Leo\\AppData\\Roaming\\Python\\Python38\\site-packages\\IPython\\core\\interactiveshell.py\", line 3433, in run_code\n",
      "    exec(code_obj, self.user_global_ns, self.user_ns)\n",
      "  File \"C:\\Users\\Leo\\AppData\\Local\\Temp\\ipykernel_3868\\2353052118.py\", line 1, in <module>\n",
      "    allacqui[0].plot()\n",
      "AttributeError: 'list' object has no attribute 'plot'\n",
      "\n",
      "During handling of the above exception, another exception occurred:\n",
      "\n",
      "Traceback (most recent call last):\n",
      "  File \"C:\\Users\\Leo\\AppData\\Roaming\\Python\\Python38\\site-packages\\IPython\\core\\interactiveshell.py\", line 2052, in showtraceback\n",
      "    stb = self.InteractiveTB.structured_traceback(\n",
      "  File \"C:\\Users\\Leo\\AppData\\Roaming\\Python\\Python38\\site-packages\\IPython\\core\\ultratb.py\", line 1112, in structured_traceback\n",
      "    return FormattedTB.structured_traceback(\n",
      "  File \"C:\\Users\\Leo\\AppData\\Roaming\\Python\\Python38\\site-packages\\IPython\\core\\ultratb.py\", line 1006, in structured_traceback\n",
      "    return VerboseTB.structured_traceback(\n",
      "  File \"C:\\Users\\Leo\\AppData\\Roaming\\Python\\Python38\\site-packages\\IPython\\core\\ultratb.py\", line 859, in structured_traceback\n",
      "    formatted_exception = self.format_exception_as_a_whole(etype, evalue, etb, number_of_lines_of_context,\n",
      "  File \"C:\\Users\\Leo\\AppData\\Roaming\\Python\\Python38\\site-packages\\IPython\\core\\ultratb.py\", line 812, in format_exception_as_a_whole\n",
      "    frames.append(self.format_record(r))\n",
      "  File \"C:\\Users\\Leo\\AppData\\Roaming\\Python\\Python38\\site-packages\\IPython\\core\\ultratb.py\", line 730, in format_record\n",
      "    result += ''.join(_format_traceback_lines(frame_info.lines, Colors, self.has_colors, lvals))\n",
      "  File \"C:\\Users\\Leo\\AppData\\Roaming\\Python\\Python38\\site-packages\\stack_data\\utils.py\", line 144, in cached_property_wrapper\n",
      "    value = obj.__dict__[self.func.__name__] = self.func(obj)\n",
      "  File \"C:\\Users\\Leo\\AppData\\Roaming\\Python\\Python38\\site-packages\\stack_data\\core.py\", line 720, in lines\n",
      "    pieces = self.included_pieces\n",
      "  File \"C:\\Users\\Leo\\AppData\\Roaming\\Python\\Python38\\site-packages\\stack_data\\utils.py\", line 144, in cached_property_wrapper\n",
      "    value = obj.__dict__[self.func.__name__] = self.func(obj)\n",
      "  File \"C:\\Users\\Leo\\AppData\\Roaming\\Python\\Python38\\site-packages\\stack_data\\core.py\", line 667, in included_pieces\n",
      "    pos = scope_pieces.index(self.executing_piece)\n",
      "  File \"C:\\Users\\Leo\\AppData\\Roaming\\Python\\Python38\\site-packages\\stack_data\\utils.py\", line 144, in cached_property_wrapper\n",
      "    value = obj.__dict__[self.func.__name__] = self.func(obj)\n",
      "  File \"C:\\Users\\Leo\\AppData\\Roaming\\Python\\Python38\\site-packages\\stack_data\\core.py\", line 646, in executing_piece\n",
      "    return only(\n",
      "  File \"C:\\Users\\Leo\\AppData\\Roaming\\Python\\Python38\\site-packages\\executing\\executing.py\", line 182, in only\n",
      "    if isinstance(it, Sized):\n",
      "  File \"c:\\Users\\Leo\\.conda\\envs\\manu\\lib\\typing.py\", line 769, in __instancecheck__\n",
      "    return self.__subclasscheck__(type(obj))\n",
      "  File \"c:\\Users\\Leo\\.conda\\envs\\manu\\lib\\typing.py\", line 774, in __subclasscheck__\n",
      "    return issubclass(cls, self.__origin__)\n",
      "  File \"c:\\Users\\Leo\\.conda\\envs\\manu\\lib\\abc.py\", line 102, in __subclasscheck__\n",
      "    return _abc_subclasscheck(cls, subclass)\n",
      "  File \"c:\\Users\\Leo\\.conda\\envs\\manu\\lib\\site-packages\\typing_extensions.py\", line 583, in __subclasscheck__\n",
      "    return super().__subclasscheck__(other)\n",
      "  File \"c:\\Users\\Leo\\.conda\\envs\\manu\\lib\\abc.py\", line 102, in __subclasscheck__\n",
      "    return _abc_subclasscheck(cls, subclass)\n",
      "  File \"c:\\Users\\Leo\\.conda\\envs\\manu\\lib\\site-packages\\typing_extensions.py\", line 639, in _proto_hook\n",
      "    raise TypeError(\"Instance and class checks can only be used with\"\n",
      "TypeError: Instance and class checks can only be used with @runtime_checkable protocols\n"
     ]
    }
   ],
   "source": [
    "allacqui[0].plot()"
   ]
  },
  {
   "cell_type": "code",
   "execution_count": 101,
   "metadata": {},
   "outputs": [
    {
     "name": "stdout",
     "output_type": "stream",
     "text": [
      "Unexpected exception formatting exception. Falling back to standard exception\n"
     ]
    },
    {
     "name": "stderr",
     "output_type": "stream",
     "text": [
      "Traceback (most recent call last):\n",
      "  File \"C:\\Users\\Leo\\AppData\\Roaming\\Python\\Python38\\site-packages\\IPython\\core\\interactiveshell.py\", line 3433, in run_code\n",
      "    exec(code_obj, self.user_global_ns, self.user_ns)\n",
      "  File \"C:\\Users\\Leo\\AppData\\Local\\Temp\\ipykernel_3868\\3695857233.py\", line 3, in <module>\n",
      "    data_matrix = allacqui[3]['volts']\n",
      "TypeError: list indices must be integers or slices, not str\n",
      "\n",
      "During handling of the above exception, another exception occurred:\n",
      "\n",
      "Traceback (most recent call last):\n",
      "  File \"C:\\Users\\Leo\\AppData\\Roaming\\Python\\Python38\\site-packages\\IPython\\core\\interactiveshell.py\", line 2052, in showtraceback\n",
      "    stb = self.InteractiveTB.structured_traceback(\n",
      "  File \"C:\\Users\\Leo\\AppData\\Roaming\\Python\\Python38\\site-packages\\IPython\\core\\ultratb.py\", line 1112, in structured_traceback\n",
      "    return FormattedTB.structured_traceback(\n",
      "  File \"C:\\Users\\Leo\\AppData\\Roaming\\Python\\Python38\\site-packages\\IPython\\core\\ultratb.py\", line 1006, in structured_traceback\n",
      "    return VerboseTB.structured_traceback(\n",
      "  File \"C:\\Users\\Leo\\AppData\\Roaming\\Python\\Python38\\site-packages\\IPython\\core\\ultratb.py\", line 859, in structured_traceback\n",
      "    formatted_exception = self.format_exception_as_a_whole(etype, evalue, etb, number_of_lines_of_context,\n",
      "  File \"C:\\Users\\Leo\\AppData\\Roaming\\Python\\Python38\\site-packages\\IPython\\core\\ultratb.py\", line 812, in format_exception_as_a_whole\n",
      "    frames.append(self.format_record(r))\n",
      "  File \"C:\\Users\\Leo\\AppData\\Roaming\\Python\\Python38\\site-packages\\IPython\\core\\ultratb.py\", line 730, in format_record\n",
      "    result += ''.join(_format_traceback_lines(frame_info.lines, Colors, self.has_colors, lvals))\n",
      "  File \"C:\\Users\\Leo\\AppData\\Roaming\\Python\\Python38\\site-packages\\stack_data\\utils.py\", line 144, in cached_property_wrapper\n",
      "    value = obj.__dict__[self.func.__name__] = self.func(obj)\n",
      "  File \"C:\\Users\\Leo\\AppData\\Roaming\\Python\\Python38\\site-packages\\stack_data\\core.py\", line 720, in lines\n",
      "    pieces = self.included_pieces\n",
      "  File \"C:\\Users\\Leo\\AppData\\Roaming\\Python\\Python38\\site-packages\\stack_data\\utils.py\", line 144, in cached_property_wrapper\n",
      "    value = obj.__dict__[self.func.__name__] = self.func(obj)\n",
      "  File \"C:\\Users\\Leo\\AppData\\Roaming\\Python\\Python38\\site-packages\\stack_data\\core.py\", line 667, in included_pieces\n",
      "    pos = scope_pieces.index(self.executing_piece)\n",
      "  File \"C:\\Users\\Leo\\AppData\\Roaming\\Python\\Python38\\site-packages\\stack_data\\utils.py\", line 144, in cached_property_wrapper\n",
      "    value = obj.__dict__[self.func.__name__] = self.func(obj)\n",
      "  File \"C:\\Users\\Leo\\AppData\\Roaming\\Python\\Python38\\site-packages\\stack_data\\core.py\", line 646, in executing_piece\n",
      "    return only(\n",
      "  File \"C:\\Users\\Leo\\AppData\\Roaming\\Python\\Python38\\site-packages\\executing\\executing.py\", line 182, in only\n",
      "    if isinstance(it, Sized):\n",
      "  File \"c:\\Users\\Leo\\.conda\\envs\\manu\\lib\\typing.py\", line 769, in __instancecheck__\n",
      "    return self.__subclasscheck__(type(obj))\n",
      "  File \"c:\\Users\\Leo\\.conda\\envs\\manu\\lib\\typing.py\", line 774, in __subclasscheck__\n",
      "    return issubclass(cls, self.__origin__)\n",
      "  File \"c:\\Users\\Leo\\.conda\\envs\\manu\\lib\\abc.py\", line 102, in __subclasscheck__\n",
      "    return _abc_subclasscheck(cls, subclass)\n",
      "  File \"c:\\Users\\Leo\\.conda\\envs\\manu\\lib\\site-packages\\typing_extensions.py\", line 583, in __subclasscheck__\n",
      "    return super().__subclasscheck__(other)\n",
      "  File \"c:\\Users\\Leo\\.conda\\envs\\manu\\lib\\abc.py\", line 102, in __subclasscheck__\n",
      "    return _abc_subclasscheck(cls, subclass)\n",
      "  File \"c:\\Users\\Leo\\.conda\\envs\\manu\\lib\\site-packages\\typing_extensions.py\", line 639, in _proto_hook\n",
      "    raise TypeError(\"Instance and class checks can only be used with\"\n",
      "TypeError: Instance and class checks can only be used with @runtime_checkable protocols\n"
     ]
    }
   ],
   "source": [
    "# Andiamo a lavorare sui dati di national instrument, ne riduciamo le dimensioni usando la media\n",
    "\n",
    "data_matrix = allacqui[3]['volts']\n",
    "grid_points = allacqui[3]['time']\n",
    "\n",
    "fd_manu = skfda.FDataGrid(\n",
    "    data_matrix=data_matrix,\n",
    "    grid_points=grid_points,\n",
    "    dataset_name=\"Datagrid di esempio\",\n",
    "    argument_names=('time',),\n",
    "    coordinate_names=('values',),\n",
    "    interpolation=SplineInterpolation(interpolation_order=3)\n",
    ")"
   ]
  },
  {
   "cell_type": "code",
   "execution_count": 102,
   "metadata": {},
   "outputs": [
    {
     "name": "stdout",
     "output_type": "stream",
     "text": [
      "Unexpected exception formatting exception. Falling back to standard exception\n"
     ]
    },
    {
     "name": "stderr",
     "output_type": "stream",
     "text": [
      "Traceback (most recent call last):\n",
      "  File \"C:\\Users\\Leo\\AppData\\Roaming\\Python\\Python38\\site-packages\\IPython\\core\\interactiveshell.py\", line 3433, in run_code\n",
      "    exec(code_obj, self.user_global_ns, self.user_ns)\n",
      "  File \"C:\\Users\\Leo\\AppData\\Local\\Temp\\ipykernel_3868\\2548946351.py\", line 1, in <module>\n",
      "    fdBoxplot = Boxplot(fd_manu)\n",
      "NameError: name 'fd_manu' is not defined\n",
      "\n",
      "During handling of the above exception, another exception occurred:\n",
      "\n",
      "Traceback (most recent call last):\n",
      "  File \"C:\\Users\\Leo\\AppData\\Roaming\\Python\\Python38\\site-packages\\IPython\\core\\interactiveshell.py\", line 2052, in showtraceback\n",
      "    stb = self.InteractiveTB.structured_traceback(\n",
      "  File \"C:\\Users\\Leo\\AppData\\Roaming\\Python\\Python38\\site-packages\\IPython\\core\\ultratb.py\", line 1112, in structured_traceback\n",
      "    return FormattedTB.structured_traceback(\n",
      "  File \"C:\\Users\\Leo\\AppData\\Roaming\\Python\\Python38\\site-packages\\IPython\\core\\ultratb.py\", line 1006, in structured_traceback\n",
      "    return VerboseTB.structured_traceback(\n",
      "  File \"C:\\Users\\Leo\\AppData\\Roaming\\Python\\Python38\\site-packages\\IPython\\core\\ultratb.py\", line 859, in structured_traceback\n",
      "    formatted_exception = self.format_exception_as_a_whole(etype, evalue, etb, number_of_lines_of_context,\n",
      "  File \"C:\\Users\\Leo\\AppData\\Roaming\\Python\\Python38\\site-packages\\IPython\\core\\ultratb.py\", line 812, in format_exception_as_a_whole\n",
      "    frames.append(self.format_record(r))\n",
      "  File \"C:\\Users\\Leo\\AppData\\Roaming\\Python\\Python38\\site-packages\\IPython\\core\\ultratb.py\", line 730, in format_record\n",
      "    result += ''.join(_format_traceback_lines(frame_info.lines, Colors, self.has_colors, lvals))\n",
      "  File \"C:\\Users\\Leo\\AppData\\Roaming\\Python\\Python38\\site-packages\\stack_data\\utils.py\", line 144, in cached_property_wrapper\n",
      "    value = obj.__dict__[self.func.__name__] = self.func(obj)\n",
      "  File \"C:\\Users\\Leo\\AppData\\Roaming\\Python\\Python38\\site-packages\\stack_data\\core.py\", line 720, in lines\n",
      "    pieces = self.included_pieces\n",
      "  File \"C:\\Users\\Leo\\AppData\\Roaming\\Python\\Python38\\site-packages\\stack_data\\utils.py\", line 144, in cached_property_wrapper\n",
      "    value = obj.__dict__[self.func.__name__] = self.func(obj)\n",
      "  File \"C:\\Users\\Leo\\AppData\\Roaming\\Python\\Python38\\site-packages\\stack_data\\core.py\", line 667, in included_pieces\n",
      "    pos = scope_pieces.index(self.executing_piece)\n",
      "  File \"C:\\Users\\Leo\\AppData\\Roaming\\Python\\Python38\\site-packages\\stack_data\\utils.py\", line 144, in cached_property_wrapper\n",
      "    value = obj.__dict__[self.func.__name__] = self.func(obj)\n",
      "  File \"C:\\Users\\Leo\\AppData\\Roaming\\Python\\Python38\\site-packages\\stack_data\\core.py\", line 646, in executing_piece\n",
      "    return only(\n",
      "  File \"C:\\Users\\Leo\\AppData\\Roaming\\Python\\Python38\\site-packages\\executing\\executing.py\", line 182, in only\n",
      "    if isinstance(it, Sized):\n",
      "  File \"c:\\Users\\Leo\\.conda\\envs\\manu\\lib\\typing.py\", line 769, in __instancecheck__\n",
      "    return self.__subclasscheck__(type(obj))\n",
      "  File \"c:\\Users\\Leo\\.conda\\envs\\manu\\lib\\typing.py\", line 774, in __subclasscheck__\n",
      "    return issubclass(cls, self.__origin__)\n",
      "  File \"c:\\Users\\Leo\\.conda\\envs\\manu\\lib\\abc.py\", line 102, in __subclasscheck__\n",
      "    return _abc_subclasscheck(cls, subclass)\n",
      "  File \"c:\\Users\\Leo\\.conda\\envs\\manu\\lib\\site-packages\\typing_extensions.py\", line 583, in __subclasscheck__\n",
      "    return super().__subclasscheck__(other)\n",
      "  File \"c:\\Users\\Leo\\.conda\\envs\\manu\\lib\\abc.py\", line 102, in __subclasscheck__\n",
      "    return _abc_subclasscheck(cls, subclass)\n",
      "  File \"c:\\Users\\Leo\\.conda\\envs\\manu\\lib\\site-packages\\typing_extensions.py\", line 639, in _proto_hook\n",
      "    raise TypeError(\"Instance and class checks can only be used with\"\n",
      "TypeError: Instance and class checks can only be used with @runtime_checkable protocols\n"
     ]
    }
   ],
   "source": [
    "fdBoxplot = Boxplot(fd_manu)\n",
    "fdBoxplot.show_full_outliers = True\n",
    "fdBoxplot.plot()"
   ]
  },
  {
   "cell_type": "code",
   "execution_count": 127,
   "metadata": {},
   "outputs": [],
   "source": [
    "import numpy as np\n",
    "def makepwm(d):\n",
    "    off_setList = len([d-x for x in b['time'] if (d - x > 0)])\n",
    "    if(off_setList == 0):\n",
    "       return 0\n",
    "    else:\n",
    "      return off_setList-1\n",
    "makepwmElem = np.vectorize(makepwm)"
   ]
  },
  {
   "cell_type": "code",
   "execution_count": 132,
   "metadata": {},
   "outputs": [],
   "source": [
    "all_PWMoutput = []\n",
    "\n",
    "for acquisizione,b in zip(allacqui,allacqui_input): \n",
    "    \n",
    "    all_PWMoutput.append([])\n",
    "    for timestamp in acquisizione:\n",
    "        all_PWMoutput[-1].append([])\n",
    "        all_PWMoutput[-1][-1] = makepwmElem(timestamp['time'])\n"
   ]
  },
  {
   "cell_type": "code",
   "execution_count": 119,
   "metadata": {},
   "outputs": [],
   "source": [
    "'''all_PWMoutput = []\n",
    "\n",
    "for acquisizione,b in zip(allacqui,allacqui_input): \n",
    "    \n",
    "    all_PWMoutput.append([])\n",
    "    for timestamp in acquisizione:\n",
    "        \n",
    "        all_PWMoutput[-1].append([])\n",
    "        for d in timestamp['time']:\n",
    "            off_setList = len([\n",
    "                d-x for x in b['time'] if (d - x > 0)\n",
    "            ])\n",
    "            if(off_setList == 0):\n",
    "               all_PWMoutput[-1][-1].append(0)\n",
    "            else:\n",
    "                all_PWMoutput[-1][-1].append(b['pwm_percent'][off_setList-1])\n",
    "'''\n",
    "       \n",
    "\n"
   ]
  },
  {
   "cell_type": "code",
   "execution_count": 136,
   "metadata": {},
   "outputs": [
    {
     "name": "stdout",
     "output_type": "stream",
     "text": [
      "4\n",
      "[ 0  0  0 ... 39 39 39]\n"
     ]
    }
   ],
   "source": [
    "print(len(all_PWMoutput))\n",
    "\n",
    "print(all_PWMoutput[0][0][0])"
   ]
  },
  {
   "cell_type": "code",
   "execution_count": 105,
   "metadata": {},
   "outputs": [
    {
     "name": "stdout",
     "output_type": "stream",
     "text": [
      "1\n"
     ]
    }
   ],
   "source": [
    "print(len(PWM_output))"
   ]
  },
  {
   "cell_type": "code",
   "execution_count": 106,
   "metadata": {},
   "outputs": [
    {
     "name": "stdout",
     "output_type": "stream",
     "text": [
      "Unexpected exception formatting exception. Falling back to standard exception\n"
     ]
    },
    {
     "name": "stderr",
     "output_type": "stream",
     "text": [
      "Traceback (most recent call last):\n",
      "  File \"C:\\Users\\Leo\\AppData\\Roaming\\Python\\Python38\\site-packages\\IPython\\core\\interactiveshell.py\", line 3433, in run_code\n",
      "    exec(code_obj, self.user_global_ns, self.user_ns)\n",
      "  File \"C:\\Users\\Leo\\AppData\\Local\\Temp\\ipykernel_3868\\1614212994.py\", line 8, in <module>\n",
      "    data_matrix = a[a.columns.values[1]]\n",
      "AttributeError: 'list' object has no attribute 'columns'\n",
      "\n",
      "During handling of the above exception, another exception occurred:\n",
      "\n",
      "Traceback (most recent call last):\n",
      "  File \"C:\\Users\\Leo\\AppData\\Roaming\\Python\\Python38\\site-packages\\IPython\\core\\interactiveshell.py\", line 2052, in showtraceback\n",
      "    stb = self.InteractiveTB.structured_traceback(\n",
      "  File \"C:\\Users\\Leo\\AppData\\Roaming\\Python\\Python38\\site-packages\\IPython\\core\\ultratb.py\", line 1112, in structured_traceback\n",
      "    return FormattedTB.structured_traceback(\n",
      "  File \"C:\\Users\\Leo\\AppData\\Roaming\\Python\\Python38\\site-packages\\IPython\\core\\ultratb.py\", line 1006, in structured_traceback\n",
      "    return VerboseTB.structured_traceback(\n",
      "  File \"C:\\Users\\Leo\\AppData\\Roaming\\Python\\Python38\\site-packages\\IPython\\core\\ultratb.py\", line 859, in structured_traceback\n",
      "    formatted_exception = self.format_exception_as_a_whole(etype, evalue, etb, number_of_lines_of_context,\n",
      "  File \"C:\\Users\\Leo\\AppData\\Roaming\\Python\\Python38\\site-packages\\IPython\\core\\ultratb.py\", line 812, in format_exception_as_a_whole\n",
      "    frames.append(self.format_record(r))\n",
      "  File \"C:\\Users\\Leo\\AppData\\Roaming\\Python\\Python38\\site-packages\\IPython\\core\\ultratb.py\", line 730, in format_record\n",
      "    result += ''.join(_format_traceback_lines(frame_info.lines, Colors, self.has_colors, lvals))\n",
      "  File \"C:\\Users\\Leo\\AppData\\Roaming\\Python\\Python38\\site-packages\\stack_data\\utils.py\", line 144, in cached_property_wrapper\n",
      "    value = obj.__dict__[self.func.__name__] = self.func(obj)\n",
      "  File \"C:\\Users\\Leo\\AppData\\Roaming\\Python\\Python38\\site-packages\\stack_data\\core.py\", line 720, in lines\n",
      "    pieces = self.included_pieces\n",
      "  File \"C:\\Users\\Leo\\AppData\\Roaming\\Python\\Python38\\site-packages\\stack_data\\utils.py\", line 144, in cached_property_wrapper\n",
      "    value = obj.__dict__[self.func.__name__] = self.func(obj)\n",
      "  File \"C:\\Users\\Leo\\AppData\\Roaming\\Python\\Python38\\site-packages\\stack_data\\core.py\", line 667, in included_pieces\n",
      "    pos = scope_pieces.index(self.executing_piece)\n",
      "  File \"C:\\Users\\Leo\\AppData\\Roaming\\Python\\Python38\\site-packages\\stack_data\\utils.py\", line 144, in cached_property_wrapper\n",
      "    value = obj.__dict__[self.func.__name__] = self.func(obj)\n",
      "  File \"C:\\Users\\Leo\\AppData\\Roaming\\Python\\Python38\\site-packages\\stack_data\\core.py\", line 646, in executing_piece\n",
      "    return only(\n",
      "  File \"C:\\Users\\Leo\\AppData\\Roaming\\Python\\Python38\\site-packages\\executing\\executing.py\", line 182, in only\n",
      "    if isinstance(it, Sized):\n",
      "  File \"c:\\Users\\Leo\\.conda\\envs\\manu\\lib\\typing.py\", line 769, in __instancecheck__\n",
      "    return self.__subclasscheck__(type(obj))\n",
      "  File \"c:\\Users\\Leo\\.conda\\envs\\manu\\lib\\typing.py\", line 774, in __subclasscheck__\n",
      "    return issubclass(cls, self.__origin__)\n",
      "  File \"c:\\Users\\Leo\\.conda\\envs\\manu\\lib\\abc.py\", line 102, in __subclasscheck__\n",
      "    return _abc_subclasscheck(cls, subclass)\n",
      "  File \"c:\\Users\\Leo\\.conda\\envs\\manu\\lib\\site-packages\\typing_extensions.py\", line 583, in __subclasscheck__\n",
      "    return super().__subclasscheck__(other)\n",
      "  File \"c:\\Users\\Leo\\.conda\\envs\\manu\\lib\\abc.py\", line 102, in __subclasscheck__\n",
      "    return _abc_subclasscheck(cls, subclass)\n",
      "  File \"c:\\Users\\Leo\\.conda\\envs\\manu\\lib\\site-packages\\typing_extensions.py\", line 639, in _proto_hook\n",
      "    raise TypeError(\"Instance and class checks can only be used with\"\n",
      "TypeError: Instance and class checks can only be used with @runtime_checkable protocols\n"
     ]
    }
   ],
   "source": [
    "# Andiamo a definire un datagrid per ogni dataframe\n",
    "\n",
    "all_data_grid = []\n",
    "\n",
    "for pwmoutput in all_PWMoutput:\n",
    "    for a,b in zip(allacqui,path_acquisizioni):\n",
    "    \n",
    "        data_matrix = a[a.columns.values[1]]\n",
    "        data_matrix_2 = pwmoutput\n",
    "        grid_points = a[a.columns.values[0]]\n",
    "\n",
    "        all_data_grid.append(skfda.FDataGrid(\n",
    "        data_matrix=data_matrix,\n",
    "        grid_points=grid_points,\n",
    "        dataset_name=b,\n",
    "        argument_names=(a.columns.values[0],),\n",
    "        coordinate_names=(a.columns.values[1],),\n",
    "        interpolation=SplineInterpolation(interpolation_order=1)\n",
    "        ))\n",
    "    "
   ]
  },
  {
   "cell_type": "code",
   "execution_count": 107,
   "metadata": {},
   "outputs": [
    {
     "name": "stdout",
     "output_type": "stream",
     "text": [
      "Unexpected exception formatting exception. Falling back to standard exception\n"
     ]
    },
    {
     "name": "stderr",
     "output_type": "stream",
     "text": [
      "Traceback (most recent call last):\n",
      "  File \"C:\\Users\\Leo\\AppData\\Roaming\\Python\\Python38\\site-packages\\IPython\\core\\interactiveshell.py\", line 3433, in run_code\n",
      "    exec(code_obj, self.user_global_ns, self.user_ns)\n",
      "  File \"C:\\Users\\Leo\\AppData\\Local\\Temp\\ipykernel_3868\\189906005.py\", line 1, in <module>\n",
      "    print(all_input[1].head(10))\n",
      "NameError: name 'all_input' is not defined\n",
      "\n",
      "During handling of the above exception, another exception occurred:\n",
      "\n",
      "Traceback (most recent call last):\n",
      "  File \"C:\\Users\\Leo\\AppData\\Roaming\\Python\\Python38\\site-packages\\IPython\\core\\interactiveshell.py\", line 2052, in showtraceback\n",
      "    stb = self.InteractiveTB.structured_traceback(\n",
      "  File \"C:\\Users\\Leo\\AppData\\Roaming\\Python\\Python38\\site-packages\\IPython\\core\\ultratb.py\", line 1112, in structured_traceback\n",
      "    return FormattedTB.structured_traceback(\n",
      "  File \"C:\\Users\\Leo\\AppData\\Roaming\\Python\\Python38\\site-packages\\IPython\\core\\ultratb.py\", line 1006, in structured_traceback\n",
      "    return VerboseTB.structured_traceback(\n",
      "  File \"C:\\Users\\Leo\\AppData\\Roaming\\Python\\Python38\\site-packages\\IPython\\core\\ultratb.py\", line 859, in structured_traceback\n",
      "    formatted_exception = self.format_exception_as_a_whole(etype, evalue, etb, number_of_lines_of_context,\n",
      "  File \"C:\\Users\\Leo\\AppData\\Roaming\\Python\\Python38\\site-packages\\IPython\\core\\ultratb.py\", line 812, in format_exception_as_a_whole\n",
      "    frames.append(self.format_record(r))\n",
      "  File \"C:\\Users\\Leo\\AppData\\Roaming\\Python\\Python38\\site-packages\\IPython\\core\\ultratb.py\", line 730, in format_record\n",
      "    result += ''.join(_format_traceback_lines(frame_info.lines, Colors, self.has_colors, lvals))\n",
      "  File \"C:\\Users\\Leo\\AppData\\Roaming\\Python\\Python38\\site-packages\\stack_data\\utils.py\", line 144, in cached_property_wrapper\n",
      "    value = obj.__dict__[self.func.__name__] = self.func(obj)\n",
      "  File \"C:\\Users\\Leo\\AppData\\Roaming\\Python\\Python38\\site-packages\\stack_data\\core.py\", line 720, in lines\n",
      "    pieces = self.included_pieces\n",
      "  File \"C:\\Users\\Leo\\AppData\\Roaming\\Python\\Python38\\site-packages\\stack_data\\utils.py\", line 144, in cached_property_wrapper\n",
      "    value = obj.__dict__[self.func.__name__] = self.func(obj)\n",
      "  File \"C:\\Users\\Leo\\AppData\\Roaming\\Python\\Python38\\site-packages\\stack_data\\core.py\", line 667, in included_pieces\n",
      "    pos = scope_pieces.index(self.executing_piece)\n",
      "  File \"C:\\Users\\Leo\\AppData\\Roaming\\Python\\Python38\\site-packages\\stack_data\\utils.py\", line 144, in cached_property_wrapper\n",
      "    value = obj.__dict__[self.func.__name__] = self.func(obj)\n",
      "  File \"C:\\Users\\Leo\\AppData\\Roaming\\Python\\Python38\\site-packages\\stack_data\\core.py\", line 646, in executing_piece\n",
      "    return only(\n",
      "  File \"C:\\Users\\Leo\\AppData\\Roaming\\Python\\Python38\\site-packages\\executing\\executing.py\", line 182, in only\n",
      "    if isinstance(it, Sized):\n",
      "  File \"c:\\Users\\Leo\\.conda\\envs\\manu\\lib\\typing.py\", line 769, in __instancecheck__\n",
      "    return self.__subclasscheck__(type(obj))\n",
      "  File \"c:\\Users\\Leo\\.conda\\envs\\manu\\lib\\typing.py\", line 774, in __subclasscheck__\n",
      "    return issubclass(cls, self.__origin__)\n",
      "  File \"c:\\Users\\Leo\\.conda\\envs\\manu\\lib\\abc.py\", line 102, in __subclasscheck__\n",
      "    return _abc_subclasscheck(cls, subclass)\n",
      "  File \"c:\\Users\\Leo\\.conda\\envs\\manu\\lib\\site-packages\\typing_extensions.py\", line 583, in __subclasscheck__\n",
      "    return super().__subclasscheck__(other)\n",
      "  File \"c:\\Users\\Leo\\.conda\\envs\\manu\\lib\\abc.py\", line 102, in __subclasscheck__\n",
      "    return _abc_subclasscheck(cls, subclass)\n",
      "  File \"c:\\Users\\Leo\\.conda\\envs\\manu\\lib\\site-packages\\typing_extensions.py\", line 639, in _proto_hook\n",
      "    raise TypeError(\"Instance and class checks can only be used with\"\n",
      "TypeError: Instance and class checks can only be used with @runtime_checkable protocols\n"
     ]
    }
   ],
   "source": [
    "print(all_input[1].head(10))"
   ]
  },
  {
   "cell_type": "code",
   "execution_count": null,
   "metadata": {},
   "outputs": [],
   "source": []
  }
 ],
 "metadata": {
  "kernelspec": {
   "display_name": "manutenzione",
   "language": "python",
   "name": "python3"
  },
  "language_info": {
   "codemirror_mode": {
    "name": "ipython",
    "version": 3
   },
   "file_extension": ".py",
   "mimetype": "text/x-python",
   "name": "python",
   "nbconvert_exporter": "python",
   "pygments_lexer": "ipython3",
   "version": "3.8.16"
  },
  "orig_nbformat": 4
 },
 "nbformat": 4,
 "nbformat_minor": 2
}
